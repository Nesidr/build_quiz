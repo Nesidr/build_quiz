{
 "cells": [
  {
   "cell_type": "markdown",
   "metadata": {
    "colab_type": "text",
    "id": "FY347VxWs_bJ"
   },
   "source": [
    "# Build a quizz\n",
    "\n",
    "---\n",
    "\n",
    "\n"
   ]
  },
  {
   "cell_type": "markdown",
   "metadata": {
    "colab_type": "text",
    "id": "qJizpyqVwYnF"
   },
   "source": [
    "Let's tackle our first project together. Find a partner and start coding a quiz together! Your program should: \n",
    "\n",
    "1. Ask a question to a user via the console \n",
    "2. Verify whether the answer is correct or not \n",
    "3. If the answer is correct, you should print out: `Good job! This is the right answer`\n",
    "\n",
    "* Else, it should print out : `Too bad! that is not the correct answer`\n",
    "\n",
    "4. Ask three questions following this model.\n",
    "\n"
   ]
  },
  {
   "cell_type": "markdown",
   "metadata": {
    "colab_type": "text",
    "id": "sLMbYgaOyxiX"
   },
   "source": [
    "There's a problem with our quizz : if the user has not given the right answer, the program goes to next question. We would rather like to ask again the same question if the answer was wrong.\n",
    "\n",
    "5. Using a `while` loop, make sure that the same question will be asked again when the answer was wrong\n",
    "\n",
    "6. Rewrite your code such that this behaviour is applied to all questions."
   ]
  },
  {
   "cell_type": "markdown",
   "metadata": {
    "colab_type": "text",
    "id": "nh4voWn8x3dM"
   },
   "source": [
    "Now, we would like to tackle a last problem : we want to allow only 3 wrong answers (among all questions).\n",
    "\n",
    "7. Improve your code : if the user makes 3 wrong answers, the program should stop and print (\"Too bad, you lost the game !\")\n"
   ]
  },
  {
   "cell_type": "code",
   "execution_count": null,
   "metadata": {},
   "outputs": [],
   "source": [
    "chances = 3\n",
    "\n",
    "if chances > 0:\n",
    "    answer1 = int(input(\"how many countries in the World?\"))\n",
    "    \n",
    "    while answer1 != 195:\n",
    "        print(\"Dommage, ce n'est pas la bonne réponse\")\n",
    "        chances -= 1\n",
    "        print(\"Il te reste {} chances\".format(chances))\n",
    "        \n",
    "        if chances == 0:\n",
    "            print(\"GAME OVER...\")\n",
    "            break\n",
    "        answer1 = int(input(\"how many countries in the World?\"))\n",
    "\n",
    "    \n",
    "if chances > 0:\n",
    "    answer2 = int(input(\"how many countries in Europe?\"))\n",
    "    \n",
    "    while answer2 != 50:\n",
    "        print(\"Dommage, ce n'est pas la bonne réponse\")\n",
    "        chances -= 1\n",
    "        print(\"Il te reste {} chances\".format(chances))\n",
    "        if chances == 0:\n",
    "            print(\"GAME OVER...\")\n",
    "            break\n",
    "        answer2 = int(input(\"how many countries in Europe?\"))\n",
    "\n",
    "if chances > 0:\n",
    "    answer3 = int(input(\"how many countries in the European Union?\"))\n",
    "    \n",
    "    while answer3 != 27:\n",
    "        print(\"Dommage, ce n'est pas la bonne réponse\")\n",
    "        chances -= 1\n",
    "        print(\"Il te reste {} chances\".format(chances))\n",
    "        if chances == 0:\n",
    "            print(\"GAME OVER\")\n",
    "            break\n",
    "        answer3 = int(input(\"how many countries in the European Union?\"))\n",
    "\n",
    "if chances > 0:\n",
    "    print(\"BRAVO ! TU AS GAGNÉ !\")"
   ]
  },
  {
   "cell_type": "markdown",
   "metadata": {},
   "source": [
    "Let's refactor our quiz now that we know how to be dry.\n",
    "\n",
    "SPECs:\n",
    "\n",
    "Your code should be DRY.\n",
    "\n",
    "You should use functions."
   ]
  },
  {
   "cell_type": "code",
   "execution_count": 11,
   "metadata": {},
   "outputs": [
    {
     "name": "stdout",
     "output_type": "stream",
     "text": [
      "Correct answer!\n",
      "Correct answer!\n",
      "Correct answer!\n",
      "Congratulations! You've won the quiz!\n"
     ]
    }
   ],
   "source": [
    "class Quiz:\n",
    "    \n",
    "    #initializing attributes:\n",
    "    def __init__(self):\n",
    "        self.chances = 3\n",
    "    \n",
    "    #defining methods:\n",
    "    def ask_question(self, question, correct_answer):\n",
    "        while self.chances > 0:\n",
    "            answer = int(input(question))\n",
    "            if answer == correct_answer:\n",
    "                print(\"Correct answer!\")\n",
    "                return True  \n",
    "            else:\n",
    "                self.chances -= 1\n",
    "                print(\"Wrong answer. You have {} chances left.\".format(self.chances))\n",
    "        print(\"Game over...\")\n",
    "        return False \n",
    "\n",
    "    def play(self):\n",
    "        if self.ask_question(\"How many countries in the World?\", 195):\n",
    "            if self.ask_question(\"How many countries in Europe?\", 50):\n",
    "                if self.ask_question(\"How many countries in the European Union?\", 27):\n",
    "                    print(\"Congratulations! You've won the quiz!\")\n",
    "\n",
    "# Create an instance of the Quiz class\n",
    "quiz = Quiz()\n",
    "\n",
    "# Play the quiz\n",
    "quiz.play()\n"
   ]
  },
  {
   "cell_type": "code",
   "execution_count": null,
   "metadata": {},
   "outputs": [],
   "source": []
  }
 ],
 "metadata": {
  "colab": {
   "name": "Construire un quiz - SOLUTIONS S1-1A.ipynb",
   "provenance": []
  },
  "kernelspec": {
   "display_name": "Python 3.7.6 64-bit (conda)",
   "metadata": {
    "interpreter": {
     "hash": "81922e58b9f0765dc46a2f2aae6246790c134fff12037142dafdcc4c4ca17485"
    }
   },
   "name": "python3"
  },
  "language_info": {
   "codemirror_mode": {
    "name": "ipython",
    "version": 3
   },
   "file_extension": ".py",
   "mimetype": "text/x-python",
   "name": "python",
   "nbconvert_exporter": "python",
   "pygments_lexer": "ipython3",
   "version": "3.11.7"
  }
 },
 "nbformat": 4,
 "nbformat_minor": 1
}
